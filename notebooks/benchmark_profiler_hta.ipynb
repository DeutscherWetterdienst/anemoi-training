{
 "cells": [
  {
   "cell_type": "markdown",
   "metadata": {},
   "source": [
    "# Quick demo on how to use Holistic Trace Analysis from Pytorch (https://hta.readthedocs.io/en/latest/index.html)\n",
    "# please make sure you have it installed before running this notebooks"
   ]
  },
  {
   "cell_type": "code",
   "execution_count": 1,
   "metadata": {},
   "outputs": [],
   "source": [
    "from hta.trace_analysis import TraceAnalysis"
   ]
  },
  {
   "cell_type": "code",
   "execution_count": 10,
   "metadata": {},
   "outputs": [
    {
     "data": {
      "text/plain": [
       "PosixPath('/etc/ecmwf/nfs/dh1_perm_a/ecm2559/dev/test_aifs/anemoi-training')"
      ]
     },
     "execution_count": 10,
     "metadata": {},
     "output_type": "execute_result"
    }
   ],
   "source": [
    "from pathlib import Path\n",
    "base_path=Path.cwd().parent"
   ]
  },
  {
   "cell_type": "code",
   "execution_count": 24,
   "metadata": {},
   "outputs": [
    {
     "name": "stdout",
     "output_type": "stream",
     "text": [
      "2024-08-23 11:52:32,248 - hydra_plugins.anemoi_searchpath.anemoi_searchpath_plugin - anemoi_searchpath_plugin.py:L44 - INFO - Prepending Anemoi Home (/home/ecm2559/.config/anemoi/training/config) to the search path.\n",
      "2024-08-23 11:52:32,249 - hydra_plugins.anemoi_searchpath.anemoi_searchpath_plugin - anemoi_searchpath_plugin.py:L67 - INFO - Prepending current user directory (/etc/ecmwf/nfs/dh1_perm_a/ecm2559/dev/test_aifs/anemoi-training/notebooks) to the search path.\n",
      "2024-08-23 11:52:32,249 - hydra_plugins.anemoi_searchpath.anemoi_searchpath_plugin - anemoi_searchpath_plugin.py:L69 - INFO - Search path is now: [provider=anemoi-cwd-searchpath-plugin, path=/etc/ecmwf/nfs/dh1_perm_a/ecm2559/dev/test_aifs/anemoi-training/notebooks, provider=anemoi-home-searchpath-plugin, path=/home/ecm2559/.config/anemoi/training/config, provider=hydra, path=pkg://hydra.conf, provider=main, path=/etc/ecmwf/nfs/dh1_perm_a/ecm2559/dev/test_aifs/anemoi-training/notebooks]\n"
     ]
    }
   ],
   "source": [
    "from hydra import initialize, compose\n",
    "from omegaconf import OmegaConf\n",
    "import os\n",
    "\n",
    "\n",
    "with initialize(version_base=None, config_path=\"./\"):\n",
    "    cfg = compose(config_name='config.yaml')\n",
    "    OmegaConf.resolve(cfg)"
   ]
  },
  {
   "cell_type": "code",
   "execution_count": 33,
   "metadata": {},
   "outputs": [
    {
     "data": {
      "text/plain": [
       "PosixPath('/ec/res4/hpcperm/ecm2559/aifs/o96/profiler/c633febd401649a3b9132a671a48962b')"
      ]
     },
     "execution_count": 33,
     "metadata": {},
     "output_type": "execute_result"
    }
   ],
   "source": [
    "run_id = 'c633febd401649a3b9132a671a48962b/'\n",
    "Path(cfg.hardware.paths.profiler) / run_id"
   ]
  },
  {
   "cell_type": "code",
   "execution_count": null,
   "metadata": {},
   "outputs": [],
   "source": [
    "# Path to the profiler run where the memory traces have been stored\n",
    "tracepath = cfg.hardware.paths.profiler\n",
    "run_id = 'c633febd401649a3b9132a671a48962b/'\n",
    "analyzer = TraceAnalysis(trace_dir = trace_path)\n",
    "\n"
   ]
  },
  {
   "cell_type": "markdown",
   "metadata": {},
   "source": [
    "## Temporal Breakdown"
   ]
  },
  {
   "cell_type": "code",
   "execution_count": null,
   "metadata": {},
   "outputs": [],
   "source": [
    "time_df=analyzer.get_temporal_breakdown()"
   ]
  },
  {
   "cell_type": "markdown",
   "metadata": {},
   "source": [
    "## Idle Time Breakdown"
   ]
  },
  {
   "cell_type": "code",
   "execution_count": null,
   "metadata": {},
   "outputs": [],
   "source": [
    "idle_time_df_r0 = analyzer.get_idle_time_breakdown()\n"
   ]
  },
  {
   "cell_type": "code",
   "execution_count": null,
   "metadata": {},
   "outputs": [],
   "source": [
    "idle_time_df_r1 = analyzer.get_idle_time_breakdown(ranks=[1])\n"
   ]
  },
  {
   "cell_type": "code",
   "execution_count": null,
   "metadata": {},
   "outputs": [],
   "source": [
    "idle_time_df_r1"
   ]
  },
  {
   "cell_type": "markdown",
   "metadata": {},
   "source": [
    "## Kernel Breakdown"
   ]
  },
  {
   "cell_type": "code",
   "execution_count": null,
   "metadata": {},
   "outputs": [],
   "source": [
    " #NCCL changed their kernel naming convention so HTA v2.0 doesnt recognise communication kernels\n",
    " #This can be fixed by editing one line of hta/utils/util.py, see https://github.com/facebookresearch/HolisticTraceAnalysis/pull/123\n",
    "\n",
    "# see https://github.com/facebookresearch/HolisticTraceAnalysis/blob/main/examples/kernel_breakdown_demo.ipynb\n",
    "kernel_type_metrics_df, kernel_metrics_df = analyzer.get_gpu_kernel_breakdown( \n",
    "                                             num_kernels=5, \n",
    "                                             include_memory_kernels=True,\n",
    "                                             visualize=False) # ! this is to heavy to push to github feel to free to set to True to get plots"
   ]
  },
  {
   "cell_type": "code",
   "execution_count": null,
   "metadata": {},
   "outputs": [],
   "source": [
    "kernel_type_metrics_df"
   ]
  },
  {
   "cell_type": "code",
   "execution_count": null,
   "metadata": {},
   "outputs": [],
   "source": [
    "kernel_metrics_df"
   ]
  },
  {
   "cell_type": "code",
   "execution_count": null,
   "metadata": {},
   "outputs": [],
   "source": [
    "# this one is not working need to see why ...\n",
    "overlap_df = analyzer.get_comm_comp_overlap()\n"
   ]
  },
  {
   "cell_type": "code",
   "execution_count": null,
   "metadata": {},
   "outputs": [],
   "source": [
    "overlap_df"
   ]
  },
  {
   "cell_type": "code",
   "execution_count": null,
   "metadata": {},
   "outputs": [],
   "source": []
  }
 ],
 "metadata": {
  "kernelspec": {
   "display_name": "Python 3",
   "language": "python",
   "name": "python3"
  },
  "language_info": {
   "codemirror_mode": {
    "name": "ipython",
    "version": 3
   },
   "file_extension": ".py",
   "mimetype": "text/x-python",
   "name": "python",
   "nbconvert_exporter": "python",
   "pygments_lexer": "ipython3",
   "version": "3.11.9"
  },
  "orig_nbformat": 4
 },
 "nbformat": 4,
 "nbformat_minor": 2
}
